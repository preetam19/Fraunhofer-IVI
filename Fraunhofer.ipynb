{
 "cells": [
  {
   "cell_type": "code",
   "execution_count": 90,
   "metadata": {},
   "outputs": [],
   "source": [
    "import warnings\n",
    "warnings.filterwarnings('ignore')"
   ]
  },
  {
   "cell_type": "code",
   "execution_count": 91,
   "metadata": {},
   "outputs": [],
   "source": [
    "import numpy\n",
    "import pandas as pd\n",
    "import matplotlib.pyplot as plt\n",
    "import seaborn as sns\n",
    "import matplotlib.dates as mdates\n"
   ]
  },
  {
   "cell_type": "markdown",
   "metadata": {},
   "source": [
    "Converting the given CSV file into DataFrame using Pandas"
   ]
  },
  {
   "cell_type": "code",
   "execution_count": 92,
   "metadata": {},
   "outputs": [],
   "source": [
    "df=pd.read_csv(r\"C:\\Users\\Nani\\Downloads\\temperatures.csv\")"
   ]
  },
  {
   "cell_type": "code",
   "execution_count": 93,
   "metadata": {},
   "outputs": [
    {
     "data": {
      "text/html": [
       "<div>\n",
       "<style scoped>\n",
       "    .dataframe tbody tr th:only-of-type {\n",
       "        vertical-align: middle;\n",
       "    }\n",
       "\n",
       "    .dataframe tbody tr th {\n",
       "        vertical-align: top;\n",
       "    }\n",
       "\n",
       "    .dataframe thead th {\n",
       "        text-align: right;\n",
       "    }\n",
       "</style>\n",
       "<table border=\"1\" class=\"dataframe\">\n",
       "  <thead>\n",
       "    <tr style=\"text-align: right;\">\n",
       "      <th></th>\n",
       "      <th>Produkt_Code</th>\n",
       "      <th>SDO_ID</th>\n",
       "      <th>Zeitstempel</th>\n",
       "      <th>Wert</th>\n",
       "      <th>Qualitaet_Niveau</th>\n",
       "      <th>Qualitaet_Byte</th>\n",
       "    </tr>\n",
       "  </thead>\n",
       "  <tbody>\n",
       "    <tr>\n",
       "      <td>0</td>\n",
       "      <td>TT_TU_MN009</td>\n",
       "      <td>2014</td>\n",
       "      <td>201501010000</td>\n",
       "      <td>3.4</td>\n",
       "      <td>7</td>\n",
       "      <td>6</td>\n",
       "    </tr>\n",
       "    <tr>\n",
       "      <td>1</td>\n",
       "      <td>TT_TU_MN009</td>\n",
       "      <td>2014</td>\n",
       "      <td>201501010100</td>\n",
       "      <td>3.1</td>\n",
       "      <td>7</td>\n",
       "      <td>6</td>\n",
       "    </tr>\n",
       "    <tr>\n",
       "      <td>2</td>\n",
       "      <td>TT_TU_MN009</td>\n",
       "      <td>2014</td>\n",
       "      <td>201501010200</td>\n",
       "      <td>2.6</td>\n",
       "      <td>7</td>\n",
       "      <td>1</td>\n",
       "    </tr>\n",
       "    <tr>\n",
       "      <td>3</td>\n",
       "      <td>TT_TU_MN009</td>\n",
       "      <td>2014</td>\n",
       "      <td>201501010300</td>\n",
       "      <td>2.8</td>\n",
       "      <td>7</td>\n",
       "      <td>1</td>\n",
       "    </tr>\n",
       "    <tr>\n",
       "      <td>4</td>\n",
       "      <td>TT_TU_MN009</td>\n",
       "      <td>2014</td>\n",
       "      <td>201501010400</td>\n",
       "      <td>2.5</td>\n",
       "      <td>7</td>\n",
       "      <td>1</td>\n",
       "    </tr>\n",
       "    <tr>\n",
       "      <td>...</td>\n",
       "      <td>...</td>\n",
       "      <td>...</td>\n",
       "      <td>...</td>\n",
       "      <td>...</td>\n",
       "      <td>...</td>\n",
       "      <td>...</td>\n",
       "    </tr>\n",
       "    <tr>\n",
       "      <td>45163</td>\n",
       "      <td>TT_TU_MN009</td>\n",
       "      <td>2014</td>\n",
       "      <td>202002251900</td>\n",
       "      <td>5.3</td>\n",
       "      <td>0</td>\n",
       "      <td>1</td>\n",
       "    </tr>\n",
       "    <tr>\n",
       "      <td>45164</td>\n",
       "      <td>TT_TU_MN009</td>\n",
       "      <td>2014</td>\n",
       "      <td>202002252000</td>\n",
       "      <td>5.5</td>\n",
       "      <td>0</td>\n",
       "      <td>1</td>\n",
       "    </tr>\n",
       "    <tr>\n",
       "      <td>45165</td>\n",
       "      <td>TT_TU_MN009</td>\n",
       "      <td>2014</td>\n",
       "      <td>202002252100</td>\n",
       "      <td>5.4</td>\n",
       "      <td>0</td>\n",
       "      <td>1</td>\n",
       "    </tr>\n",
       "    <tr>\n",
       "      <td>45166</td>\n",
       "      <td>TT_TU_MN009</td>\n",
       "      <td>2014</td>\n",
       "      <td>202002252200</td>\n",
       "      <td>3.8</td>\n",
       "      <td>0</td>\n",
       "      <td>1</td>\n",
       "    </tr>\n",
       "    <tr>\n",
       "      <td>45167</td>\n",
       "      <td>TT_TU_MN009</td>\n",
       "      <td>2014</td>\n",
       "      <td>202002252300</td>\n",
       "      <td>3.6</td>\n",
       "      <td>0</td>\n",
       "      <td>1</td>\n",
       "    </tr>\n",
       "  </tbody>\n",
       "</table>\n",
       "<p>45168 rows × 6 columns</p>\n",
       "</div>"
      ],
      "text/plain": [
       "      Produkt_Code  SDO_ID   Zeitstempel  Wert  Qualitaet_Niveau  \\\n",
       "0      TT_TU_MN009    2014  201501010000   3.4                 7   \n",
       "1      TT_TU_MN009    2014  201501010100   3.1                 7   \n",
       "2      TT_TU_MN009    2014  201501010200   2.6                 7   \n",
       "3      TT_TU_MN009    2014  201501010300   2.8                 7   \n",
       "4      TT_TU_MN009    2014  201501010400   2.5                 7   \n",
       "...            ...     ...           ...   ...               ...   \n",
       "45163  TT_TU_MN009    2014  202002251900   5.3                 0   \n",
       "45164  TT_TU_MN009    2014  202002252000   5.5                 0   \n",
       "45165  TT_TU_MN009    2014  202002252100   5.4                 0   \n",
       "45166  TT_TU_MN009    2014  202002252200   3.8                 0   \n",
       "45167  TT_TU_MN009    2014  202002252300   3.6                 0   \n",
       "\n",
       "       Qualitaet_Byte  \n",
       "0                   6  \n",
       "1                   6  \n",
       "2                   1  \n",
       "3                   1  \n",
       "4                   1  \n",
       "...               ...  \n",
       "45163               1  \n",
       "45164               1  \n",
       "45165               1  \n",
       "45166               1  \n",
       "45167               1  \n",
       "\n",
       "[45168 rows x 6 columns]"
      ]
     },
     "execution_count": 93,
     "metadata": {},
     "output_type": "execute_result"
    }
   ],
   "source": [
    "df"
   ]
  },
  {
   "cell_type": "markdown",
   "metadata": {},
   "source": [
    "Isolating \"Zeitstempel\" and \"Wert\" Column into another dataframe since we will be handling only these two columns for our tasks"
   ]
  },
  {
   "cell_type": "code",
   "execution_count": 94,
   "metadata": {},
   "outputs": [],
   "source": [
    "df_new = df[[\"Zeitstempel\",\"Wert\"]]"
   ]
  },
  {
   "cell_type": "markdown",
   "metadata": {},
   "source": [
    "Formatting the Zeitstempel."
   ]
  },
  {
   "cell_type": "code",
   "execution_count": 95,
   "metadata": {},
   "outputs": [],
   "source": [
    "df_new['Zeitstempel'] = pd.to_datetime(df_new['Zeitstempel'], format='%Y%m%d%H%M')"
   ]
  },
  {
   "cell_type": "code",
   "execution_count": 96,
   "metadata": {},
   "outputs": [
    {
     "data": {
      "text/html": [
       "<div>\n",
       "<style scoped>\n",
       "    .dataframe tbody tr th:only-of-type {\n",
       "        vertical-align: middle;\n",
       "    }\n",
       "\n",
       "    .dataframe tbody tr th {\n",
       "        vertical-align: top;\n",
       "    }\n",
       "\n",
       "    .dataframe thead th {\n",
       "        text-align: right;\n",
       "    }\n",
       "</style>\n",
       "<table border=\"1\" class=\"dataframe\">\n",
       "  <thead>\n",
       "    <tr style=\"text-align: right;\">\n",
       "      <th></th>\n",
       "      <th>Zeitstempel</th>\n",
       "      <th>Wert</th>\n",
       "    </tr>\n",
       "  </thead>\n",
       "  <tbody>\n",
       "    <tr>\n",
       "      <td>0</td>\n",
       "      <td>2015-01-01 00:00:00</td>\n",
       "      <td>3.4</td>\n",
       "    </tr>\n",
       "    <tr>\n",
       "      <td>1</td>\n",
       "      <td>2015-01-01 01:00:00</td>\n",
       "      <td>3.1</td>\n",
       "    </tr>\n",
       "    <tr>\n",
       "      <td>2</td>\n",
       "      <td>2015-01-01 02:00:00</td>\n",
       "      <td>2.6</td>\n",
       "    </tr>\n",
       "    <tr>\n",
       "      <td>3</td>\n",
       "      <td>2015-01-01 03:00:00</td>\n",
       "      <td>2.8</td>\n",
       "    </tr>\n",
       "    <tr>\n",
       "      <td>4</td>\n",
       "      <td>2015-01-01 04:00:00</td>\n",
       "      <td>2.5</td>\n",
       "    </tr>\n",
       "    <tr>\n",
       "      <td>...</td>\n",
       "      <td>...</td>\n",
       "      <td>...</td>\n",
       "    </tr>\n",
       "    <tr>\n",
       "      <td>45163</td>\n",
       "      <td>2020-02-25 19:00:00</td>\n",
       "      <td>5.3</td>\n",
       "    </tr>\n",
       "    <tr>\n",
       "      <td>45164</td>\n",
       "      <td>2020-02-25 20:00:00</td>\n",
       "      <td>5.5</td>\n",
       "    </tr>\n",
       "    <tr>\n",
       "      <td>45165</td>\n",
       "      <td>2020-02-25 21:00:00</td>\n",
       "      <td>5.4</td>\n",
       "    </tr>\n",
       "    <tr>\n",
       "      <td>45166</td>\n",
       "      <td>2020-02-25 22:00:00</td>\n",
       "      <td>3.8</td>\n",
       "    </tr>\n",
       "    <tr>\n",
       "      <td>45167</td>\n",
       "      <td>2020-02-25 23:00:00</td>\n",
       "      <td>3.6</td>\n",
       "    </tr>\n",
       "  </tbody>\n",
       "</table>\n",
       "<p>45168 rows × 2 columns</p>\n",
       "</div>"
      ],
      "text/plain": [
       "              Zeitstempel  Wert\n",
       "0     2015-01-01 00:00:00   3.4\n",
       "1     2015-01-01 01:00:00   3.1\n",
       "2     2015-01-01 02:00:00   2.6\n",
       "3     2015-01-01 03:00:00   2.8\n",
       "4     2015-01-01 04:00:00   2.5\n",
       "...                   ...   ...\n",
       "45163 2020-02-25 19:00:00   5.3\n",
       "45164 2020-02-25 20:00:00   5.5\n",
       "45165 2020-02-25 21:00:00   5.4\n",
       "45166 2020-02-25 22:00:00   3.8\n",
       "45167 2020-02-25 23:00:00   3.6\n",
       "\n",
       "[45168 rows x 2 columns]"
      ]
     },
     "execution_count": 96,
     "metadata": {},
     "output_type": "execute_result"
    }
   ],
   "source": [
    "df_new"
   ]
  },
  {
   "cell_type": "markdown",
   "metadata": {},
   "source": [
    "**Task 1:**\n",
    "\n",
    "Converting the time steps into 15 minutes interval using resampling technique"
   ]
  },
  {
   "cell_type": "code",
   "execution_count": 97,
   "metadata": {},
   "outputs": [],
   "source": [
    "df_new= df_new.set_index('Zeitstempel').resample('900s').mean()\n"
   ]
  },
  {
   "cell_type": "code",
   "execution_count": 98,
   "metadata": {},
   "outputs": [
    {
     "data": {
      "text/html": [
       "<div>\n",
       "<style scoped>\n",
       "    .dataframe tbody tr th:only-of-type {\n",
       "        vertical-align: middle;\n",
       "    }\n",
       "\n",
       "    .dataframe tbody tr th {\n",
       "        vertical-align: top;\n",
       "    }\n",
       "\n",
       "    .dataframe thead th {\n",
       "        text-align: right;\n",
       "    }\n",
       "</style>\n",
       "<table border=\"1\" class=\"dataframe\">\n",
       "  <thead>\n",
       "    <tr style=\"text-align: right;\">\n",
       "      <th></th>\n",
       "      <th>Wert</th>\n",
       "    </tr>\n",
       "    <tr>\n",
       "      <th>Zeitstempel</th>\n",
       "      <th></th>\n",
       "    </tr>\n",
       "  </thead>\n",
       "  <tbody>\n",
       "    <tr>\n",
       "      <td>2015-01-01 00:00:00</td>\n",
       "      <td>3.4</td>\n",
       "    </tr>\n",
       "    <tr>\n",
       "      <td>2015-01-01 00:15:00</td>\n",
       "      <td>NaN</td>\n",
       "    </tr>\n",
       "    <tr>\n",
       "      <td>2015-01-01 00:30:00</td>\n",
       "      <td>NaN</td>\n",
       "    </tr>\n",
       "    <tr>\n",
       "      <td>2015-01-01 00:45:00</td>\n",
       "      <td>NaN</td>\n",
       "    </tr>\n",
       "    <tr>\n",
       "      <td>2015-01-01 01:00:00</td>\n",
       "      <td>3.1</td>\n",
       "    </tr>\n",
       "    <tr>\n",
       "      <td>...</td>\n",
       "      <td>...</td>\n",
       "    </tr>\n",
       "    <tr>\n",
       "      <td>2020-02-25 22:00:00</td>\n",
       "      <td>3.8</td>\n",
       "    </tr>\n",
       "    <tr>\n",
       "      <td>2020-02-25 22:15:00</td>\n",
       "      <td>NaN</td>\n",
       "    </tr>\n",
       "    <tr>\n",
       "      <td>2020-02-25 22:30:00</td>\n",
       "      <td>NaN</td>\n",
       "    </tr>\n",
       "    <tr>\n",
       "      <td>2020-02-25 22:45:00</td>\n",
       "      <td>NaN</td>\n",
       "    </tr>\n",
       "    <tr>\n",
       "      <td>2020-02-25 23:00:00</td>\n",
       "      <td>3.6</td>\n",
       "    </tr>\n",
       "  </tbody>\n",
       "</table>\n",
       "<p>180669 rows × 1 columns</p>\n",
       "</div>"
      ],
      "text/plain": [
       "                     Wert\n",
       "Zeitstempel              \n",
       "2015-01-01 00:00:00   3.4\n",
       "2015-01-01 00:15:00   NaN\n",
       "2015-01-01 00:30:00   NaN\n",
       "2015-01-01 00:45:00   NaN\n",
       "2015-01-01 01:00:00   3.1\n",
       "...                   ...\n",
       "2020-02-25 22:00:00   3.8\n",
       "2020-02-25 22:15:00   NaN\n",
       "2020-02-25 22:30:00   NaN\n",
       "2020-02-25 22:45:00   NaN\n",
       "2020-02-25 23:00:00   3.6\n",
       "\n",
       "[180669 rows x 1 columns]"
      ]
     },
     "execution_count": 98,
     "metadata": {},
     "output_type": "execute_result"
    }
   ],
   "source": [
    "df_new"
   ]
  },
  {
   "cell_type": "markdown",
   "metadata": {},
   "source": [
    "Now the next task is to fill out the NaN values Using Linear Interpolating."
   ]
  },
  {
   "cell_type": "code",
   "execution_count": 99,
   "metadata": {},
   "outputs": [],
   "source": [
    "df_new = df_new.interpolate()"
   ]
  },
  {
   "cell_type": "code",
   "execution_count": 100,
   "metadata": {
    "scrolled": true
   },
   "outputs": [
    {
     "data": {
      "text/html": [
       "<div>\n",
       "<style scoped>\n",
       "    .dataframe tbody tr th:only-of-type {\n",
       "        vertical-align: middle;\n",
       "    }\n",
       "\n",
       "    .dataframe tbody tr th {\n",
       "        vertical-align: top;\n",
       "    }\n",
       "\n",
       "    .dataframe thead th {\n",
       "        text-align: right;\n",
       "    }\n",
       "</style>\n",
       "<table border=\"1\" class=\"dataframe\">\n",
       "  <thead>\n",
       "    <tr style=\"text-align: right;\">\n",
       "      <th></th>\n",
       "      <th>Wert</th>\n",
       "    </tr>\n",
       "    <tr>\n",
       "      <th>Zeitstempel</th>\n",
       "      <th></th>\n",
       "    </tr>\n",
       "  </thead>\n",
       "  <tbody>\n",
       "    <tr>\n",
       "      <td>2015-01-01 00:00:00</td>\n",
       "      <td>3.400</td>\n",
       "    </tr>\n",
       "    <tr>\n",
       "      <td>2015-01-01 00:15:00</td>\n",
       "      <td>3.325</td>\n",
       "    </tr>\n",
       "    <tr>\n",
       "      <td>2015-01-01 00:30:00</td>\n",
       "      <td>3.250</td>\n",
       "    </tr>\n",
       "    <tr>\n",
       "      <td>2015-01-01 00:45:00</td>\n",
       "      <td>3.175</td>\n",
       "    </tr>\n",
       "    <tr>\n",
       "      <td>2015-01-01 01:00:00</td>\n",
       "      <td>3.100</td>\n",
       "    </tr>\n",
       "    <tr>\n",
       "      <td>...</td>\n",
       "      <td>...</td>\n",
       "    </tr>\n",
       "    <tr>\n",
       "      <td>2020-02-25 22:00:00</td>\n",
       "      <td>3.800</td>\n",
       "    </tr>\n",
       "    <tr>\n",
       "      <td>2020-02-25 22:15:00</td>\n",
       "      <td>3.750</td>\n",
       "    </tr>\n",
       "    <tr>\n",
       "      <td>2020-02-25 22:30:00</td>\n",
       "      <td>3.700</td>\n",
       "    </tr>\n",
       "    <tr>\n",
       "      <td>2020-02-25 22:45:00</td>\n",
       "      <td>3.650</td>\n",
       "    </tr>\n",
       "    <tr>\n",
       "      <td>2020-02-25 23:00:00</td>\n",
       "      <td>3.600</td>\n",
       "    </tr>\n",
       "  </tbody>\n",
       "</table>\n",
       "<p>180669 rows × 1 columns</p>\n",
       "</div>"
      ],
      "text/plain": [
       "                      Wert\n",
       "Zeitstempel               \n",
       "2015-01-01 00:00:00  3.400\n",
       "2015-01-01 00:15:00  3.325\n",
       "2015-01-01 00:30:00  3.250\n",
       "2015-01-01 00:45:00  3.175\n",
       "2015-01-01 01:00:00  3.100\n",
       "...                    ...\n",
       "2020-02-25 22:00:00  3.800\n",
       "2020-02-25 22:15:00  3.750\n",
       "2020-02-25 22:30:00  3.700\n",
       "2020-02-25 22:45:00  3.650\n",
       "2020-02-25 23:00:00  3.600\n",
       "\n",
       "[180669 rows x 1 columns]"
      ]
     },
     "execution_count": 100,
     "metadata": {},
     "output_type": "execute_result"
    }
   ],
   "source": [
    "df_new"
   ]
  },
  {
   "cell_type": "markdown",
   "metadata": {},
   "source": [
    "Now we have successfully divided the given data into 15 minute time interval."
   ]
  },
  {
   "cell_type": "markdown",
   "metadata": {},
   "source": [
    "Task 2:\n",
    "\n",
    "Collecting the hottest and coldest temperature for every year with their time of occurence"
   ]
  },
  {
   "cell_type": "code",
   "execution_count": 101,
   "metadata": {},
   "outputs": [],
   "source": [
    "df_new.reset_index(inplace=True)"
   ]
  },
  {
   "cell_type": "code",
   "execution_count": null,
   "metadata": {},
   "outputs": [],
   "source": []
  },
  {
   "cell_type": "markdown",
   "metadata": {},
   "source": [
    "Creating a New column to keep track of the time which we are interested in."
   ]
  },
  {
   "cell_type": "code",
   "execution_count": 102,
   "metadata": {},
   "outputs": [],
   "source": [
    "df_new['Time'] = pd.to_datetime(df_new['Zeitstempel']).dt.time\n"
   ]
  },
  {
   "cell_type": "code",
   "execution_count": 103,
   "metadata": {},
   "outputs": [],
   "source": [
    "df_new['Date'] = pd.to_datetime(df_new['Zeitstempel']).dt.date\n"
   ]
  },
  {
   "cell_type": "code",
   "execution_count": 104,
   "metadata": {
    "scrolled": true
   },
   "outputs": [
    {
     "data": {
      "text/html": [
       "<div>\n",
       "<style scoped>\n",
       "    .dataframe tbody tr th:only-of-type {\n",
       "        vertical-align: middle;\n",
       "    }\n",
       "\n",
       "    .dataframe tbody tr th {\n",
       "        vertical-align: top;\n",
       "    }\n",
       "\n",
       "    .dataframe thead th {\n",
       "        text-align: right;\n",
       "    }\n",
       "</style>\n",
       "<table border=\"1\" class=\"dataframe\">\n",
       "  <thead>\n",
       "    <tr style=\"text-align: right;\">\n",
       "      <th></th>\n",
       "      <th>Zeitstempel</th>\n",
       "      <th>Wert</th>\n",
       "      <th>Time</th>\n",
       "      <th>Date</th>\n",
       "    </tr>\n",
       "  </thead>\n",
       "  <tbody>\n",
       "    <tr>\n",
       "      <td>0</td>\n",
       "      <td>2015-01-01 00:00:00</td>\n",
       "      <td>3.400</td>\n",
       "      <td>00:00:00</td>\n",
       "      <td>2015-01-01</td>\n",
       "    </tr>\n",
       "    <tr>\n",
       "      <td>1</td>\n",
       "      <td>2015-01-01 00:15:00</td>\n",
       "      <td>3.325</td>\n",
       "      <td>00:15:00</td>\n",
       "      <td>2015-01-01</td>\n",
       "    </tr>\n",
       "    <tr>\n",
       "      <td>2</td>\n",
       "      <td>2015-01-01 00:30:00</td>\n",
       "      <td>3.250</td>\n",
       "      <td>00:30:00</td>\n",
       "      <td>2015-01-01</td>\n",
       "    </tr>\n",
       "    <tr>\n",
       "      <td>3</td>\n",
       "      <td>2015-01-01 00:45:00</td>\n",
       "      <td>3.175</td>\n",
       "      <td>00:45:00</td>\n",
       "      <td>2015-01-01</td>\n",
       "    </tr>\n",
       "    <tr>\n",
       "      <td>4</td>\n",
       "      <td>2015-01-01 01:00:00</td>\n",
       "      <td>3.100</td>\n",
       "      <td>01:00:00</td>\n",
       "      <td>2015-01-01</td>\n",
       "    </tr>\n",
       "    <tr>\n",
       "      <td>...</td>\n",
       "      <td>...</td>\n",
       "      <td>...</td>\n",
       "      <td>...</td>\n",
       "      <td>...</td>\n",
       "    </tr>\n",
       "    <tr>\n",
       "      <td>180664</td>\n",
       "      <td>2020-02-25 22:00:00</td>\n",
       "      <td>3.800</td>\n",
       "      <td>22:00:00</td>\n",
       "      <td>2020-02-25</td>\n",
       "    </tr>\n",
       "    <tr>\n",
       "      <td>180665</td>\n",
       "      <td>2020-02-25 22:15:00</td>\n",
       "      <td>3.750</td>\n",
       "      <td>22:15:00</td>\n",
       "      <td>2020-02-25</td>\n",
       "    </tr>\n",
       "    <tr>\n",
       "      <td>180666</td>\n",
       "      <td>2020-02-25 22:30:00</td>\n",
       "      <td>3.700</td>\n",
       "      <td>22:30:00</td>\n",
       "      <td>2020-02-25</td>\n",
       "    </tr>\n",
       "    <tr>\n",
       "      <td>180667</td>\n",
       "      <td>2020-02-25 22:45:00</td>\n",
       "      <td>3.650</td>\n",
       "      <td>22:45:00</td>\n",
       "      <td>2020-02-25</td>\n",
       "    </tr>\n",
       "    <tr>\n",
       "      <td>180668</td>\n",
       "      <td>2020-02-25 23:00:00</td>\n",
       "      <td>3.600</td>\n",
       "      <td>23:00:00</td>\n",
       "      <td>2020-02-25</td>\n",
       "    </tr>\n",
       "  </tbody>\n",
       "</table>\n",
       "<p>180669 rows × 4 columns</p>\n",
       "</div>"
      ],
      "text/plain": [
       "               Zeitstempel   Wert      Time        Date\n",
       "0      2015-01-01 00:00:00  3.400  00:00:00  2015-01-01\n",
       "1      2015-01-01 00:15:00  3.325  00:15:00  2015-01-01\n",
       "2      2015-01-01 00:30:00  3.250  00:30:00  2015-01-01\n",
       "3      2015-01-01 00:45:00  3.175  00:45:00  2015-01-01\n",
       "4      2015-01-01 01:00:00  3.100  01:00:00  2015-01-01\n",
       "...                    ...    ...       ...         ...\n",
       "180664 2020-02-25 22:00:00  3.800  22:00:00  2020-02-25\n",
       "180665 2020-02-25 22:15:00  3.750  22:15:00  2020-02-25\n",
       "180666 2020-02-25 22:30:00  3.700  22:30:00  2020-02-25\n",
       "180667 2020-02-25 22:45:00  3.650  22:45:00  2020-02-25\n",
       "180668 2020-02-25 23:00:00  3.600  23:00:00  2020-02-25\n",
       "\n",
       "[180669 rows x 4 columns]"
      ]
     },
     "execution_count": 104,
     "metadata": {},
     "output_type": "execute_result"
    }
   ],
   "source": [
    "df_new"
   ]
  },
  {
   "cell_type": "markdown",
   "metadata": {},
   "source": [
    "**Grouping** with respect to every year and finding the **maximum Wert value** in that group."
   ]
  },
  {
   "cell_type": "code",
   "execution_count": 105,
   "metadata": {},
   "outputs": [],
   "source": [
    "df_hot = df_new.groupby((df_new.Zeitstempel.dt.strftime('%y'))).apply(lambda group: group[group.Wert == group.Wert.max()])\\\n",
    "  .reset_index(drop=True)"
   ]
  },
  {
   "cell_type": "code",
   "execution_count": 106,
   "metadata": {
    "scrolled": true
   },
   "outputs": [
    {
     "data": {
      "text/html": [
       "<div>\n",
       "<style scoped>\n",
       "    .dataframe tbody tr th:only-of-type {\n",
       "        vertical-align: middle;\n",
       "    }\n",
       "\n",
       "    .dataframe tbody tr th {\n",
       "        vertical-align: top;\n",
       "    }\n",
       "\n",
       "    .dataframe thead th {\n",
       "        text-align: right;\n",
       "    }\n",
       "</style>\n",
       "<table border=\"1\" class=\"dataframe\">\n",
       "  <thead>\n",
       "    <tr style=\"text-align: right;\">\n",
       "      <th></th>\n",
       "      <th>Zeitstempel</th>\n",
       "      <th>Wert</th>\n",
       "      <th>Time</th>\n",
       "      <th>Date</th>\n",
       "    </tr>\n",
       "  </thead>\n",
       "  <tbody>\n",
       "    <tr>\n",
       "      <td>0</td>\n",
       "      <td>2015-07-04 14:00:00</td>\n",
       "      <td>36.0</td>\n",
       "      <td>14:00:00</td>\n",
       "      <td>2015-07-04</td>\n",
       "    </tr>\n",
       "    <tr>\n",
       "      <td>1</td>\n",
       "      <td>2016-08-28 14:00:00</td>\n",
       "      <td>34.0</td>\n",
       "      <td>14:00:00</td>\n",
       "      <td>2016-08-28</td>\n",
       "    </tr>\n",
       "    <tr>\n",
       "      <td>2</td>\n",
       "      <td>2017-06-22 11:00:00</td>\n",
       "      <td>31.9</td>\n",
       "      <td>11:00:00</td>\n",
       "      <td>2017-06-22</td>\n",
       "    </tr>\n",
       "    <tr>\n",
       "      <td>3</td>\n",
       "      <td>2018-08-07 15:00:00</td>\n",
       "      <td>35.6</td>\n",
       "      <td>15:00:00</td>\n",
       "      <td>2018-08-07</td>\n",
       "    </tr>\n",
       "    <tr>\n",
       "      <td>4</td>\n",
       "      <td>2019-07-25 13:00:00</td>\n",
       "      <td>37.4</td>\n",
       "      <td>13:00:00</td>\n",
       "      <td>2019-07-25</td>\n",
       "    </tr>\n",
       "    <tr>\n",
       "      <td>5</td>\n",
       "      <td>2020-02-16 19:00:00</td>\n",
       "      <td>17.7</td>\n",
       "      <td>19:00:00</td>\n",
       "      <td>2020-02-16</td>\n",
       "    </tr>\n",
       "    <tr>\n",
       "      <td>6</td>\n",
       "      <td>2020-02-16 19:15:00</td>\n",
       "      <td>17.7</td>\n",
       "      <td>19:15:00</td>\n",
       "      <td>2020-02-16</td>\n",
       "    </tr>\n",
       "    <tr>\n",
       "      <td>7</td>\n",
       "      <td>2020-02-16 19:30:00</td>\n",
       "      <td>17.7</td>\n",
       "      <td>19:30:00</td>\n",
       "      <td>2020-02-16</td>\n",
       "    </tr>\n",
       "    <tr>\n",
       "      <td>8</td>\n",
       "      <td>2020-02-16 19:45:00</td>\n",
       "      <td>17.7</td>\n",
       "      <td>19:45:00</td>\n",
       "      <td>2020-02-16</td>\n",
       "    </tr>\n",
       "    <tr>\n",
       "      <td>9</td>\n",
       "      <td>2020-02-16 20:00:00</td>\n",
       "      <td>17.7</td>\n",
       "      <td>20:00:00</td>\n",
       "      <td>2020-02-16</td>\n",
       "    </tr>\n",
       "  </tbody>\n",
       "</table>\n",
       "</div>"
      ],
      "text/plain": [
       "          Zeitstempel  Wert      Time        Date\n",
       "0 2015-07-04 14:00:00  36.0  14:00:00  2015-07-04\n",
       "1 2016-08-28 14:00:00  34.0  14:00:00  2016-08-28\n",
       "2 2017-06-22 11:00:00  31.9  11:00:00  2017-06-22\n",
       "3 2018-08-07 15:00:00  35.6  15:00:00  2018-08-07\n",
       "4 2019-07-25 13:00:00  37.4  13:00:00  2019-07-25\n",
       "5 2020-02-16 19:00:00  17.7  19:00:00  2020-02-16\n",
       "6 2020-02-16 19:15:00  17.7  19:15:00  2020-02-16\n",
       "7 2020-02-16 19:30:00  17.7  19:30:00  2020-02-16\n",
       "8 2020-02-16 19:45:00  17.7  19:45:00  2020-02-16\n",
       "9 2020-02-16 20:00:00  17.7  20:00:00  2020-02-16"
      ]
     },
     "execution_count": 106,
     "metadata": {},
     "output_type": "execute_result"
    }
   ],
   "source": [
    "df_hot"
   ]
  },
  {
   "cell_type": "code",
   "execution_count": 107,
   "metadata": {},
   "outputs": [],
   "source": [
    "df_hot.drop(\"Zeitstempel\", axis=1 ,inplace = True)"
   ]
  },
  {
   "cell_type": "code",
   "execution_count": 108,
   "metadata": {},
   "outputs": [
    {
     "data": {
      "text/html": [
       "<div>\n",
       "<style scoped>\n",
       "    .dataframe tbody tr th:only-of-type {\n",
       "        vertical-align: middle;\n",
       "    }\n",
       "\n",
       "    .dataframe tbody tr th {\n",
       "        vertical-align: top;\n",
       "    }\n",
       "\n",
       "    .dataframe thead th {\n",
       "        text-align: right;\n",
       "    }\n",
       "</style>\n",
       "<table border=\"1\" class=\"dataframe\">\n",
       "  <thead>\n",
       "    <tr style=\"text-align: right;\">\n",
       "      <th></th>\n",
       "      <th>Wert</th>\n",
       "      <th>Time</th>\n",
       "      <th>Date</th>\n",
       "    </tr>\n",
       "  </thead>\n",
       "  <tbody>\n",
       "    <tr>\n",
       "      <td>0</td>\n",
       "      <td>36.0</td>\n",
       "      <td>14:00:00</td>\n",
       "      <td>2015-07-04</td>\n",
       "    </tr>\n",
       "    <tr>\n",
       "      <td>1</td>\n",
       "      <td>34.0</td>\n",
       "      <td>14:00:00</td>\n",
       "      <td>2016-08-28</td>\n",
       "    </tr>\n",
       "    <tr>\n",
       "      <td>2</td>\n",
       "      <td>31.9</td>\n",
       "      <td>11:00:00</td>\n",
       "      <td>2017-06-22</td>\n",
       "    </tr>\n",
       "    <tr>\n",
       "      <td>3</td>\n",
       "      <td>35.6</td>\n",
       "      <td>15:00:00</td>\n",
       "      <td>2018-08-07</td>\n",
       "    </tr>\n",
       "    <tr>\n",
       "      <td>4</td>\n",
       "      <td>37.4</td>\n",
       "      <td>13:00:00</td>\n",
       "      <td>2019-07-25</td>\n",
       "    </tr>\n",
       "    <tr>\n",
       "      <td>5</td>\n",
       "      <td>17.7</td>\n",
       "      <td>19:00:00</td>\n",
       "      <td>2020-02-16</td>\n",
       "    </tr>\n",
       "    <tr>\n",
       "      <td>6</td>\n",
       "      <td>17.7</td>\n",
       "      <td>19:15:00</td>\n",
       "      <td>2020-02-16</td>\n",
       "    </tr>\n",
       "    <tr>\n",
       "      <td>7</td>\n",
       "      <td>17.7</td>\n",
       "      <td>19:30:00</td>\n",
       "      <td>2020-02-16</td>\n",
       "    </tr>\n",
       "    <tr>\n",
       "      <td>8</td>\n",
       "      <td>17.7</td>\n",
       "      <td>19:45:00</td>\n",
       "      <td>2020-02-16</td>\n",
       "    </tr>\n",
       "    <tr>\n",
       "      <td>9</td>\n",
       "      <td>17.7</td>\n",
       "      <td>20:00:00</td>\n",
       "      <td>2020-02-16</td>\n",
       "    </tr>\n",
       "  </tbody>\n",
       "</table>\n",
       "</div>"
      ],
      "text/plain": [
       "   Wert      Time        Date\n",
       "0  36.0  14:00:00  2015-07-04\n",
       "1  34.0  14:00:00  2016-08-28\n",
       "2  31.9  11:00:00  2017-06-22\n",
       "3  35.6  15:00:00  2018-08-07\n",
       "4  37.4  13:00:00  2019-07-25\n",
       "5  17.7  19:00:00  2020-02-16\n",
       "6  17.7  19:15:00  2020-02-16\n",
       "7  17.7  19:30:00  2020-02-16\n",
       "8  17.7  19:45:00  2020-02-16\n",
       "9  17.7  20:00:00  2020-02-16"
      ]
     },
     "execution_count": 108,
     "metadata": {},
     "output_type": "execute_result"
    }
   ],
   "source": [
    "df_hot"
   ]
  },
  {
   "cell_type": "code",
   "execution_count": 109,
   "metadata": {},
   "outputs": [],
   "source": [
    "df_hot = df_hot.drop(df_hot.index[6:10])\n"
   ]
  },
  {
   "cell_type": "code",
   "execution_count": 110,
   "metadata": {},
   "outputs": [],
   "source": [
    "df_hot.to_csv(\"maximum_temperature_years.csv\")"
   ]
  },
  {
   "cell_type": "markdown",
   "metadata": {},
   "source": [
    "**Grouping** with respect to every year and finding the **minimum Wert value** in that group to the find the coldest temperature value for that year with time of occurence"
   ]
  },
  {
   "cell_type": "code",
   "execution_count": 111,
   "metadata": {},
   "outputs": [],
   "source": [
    "df_cold = df_new.groupby((df_new.Zeitstempel.dt.strftime('%y'))).apply(lambda group: group[group.Wert == group.Wert.min()])\\\n",
    "  .reset_index(drop=True)"
   ]
  },
  {
   "cell_type": "code",
   "execution_count": 112,
   "metadata": {},
   "outputs": [],
   "source": [
    "df_cold.drop(\"Zeitstempel\", axis=1 ,inplace = True)"
   ]
  },
  {
   "cell_type": "code",
   "execution_count": 113,
   "metadata": {},
   "outputs": [],
   "source": [
    "df_cold.to_csv(\"minimum_temperature_years.csv\")"
   ]
  },
  {
   "cell_type": "markdown",
   "metadata": {},
   "source": [
    "***Task3:*** \n",
    "\n",
    "Plotting the maximum temperatures of every year on the Y axis  and their occurence over time of day "
   ]
  },
  {
   "cell_type": "code",
   "execution_count": 114,
   "metadata": {},
   "outputs": [],
   "source": [
    "y= df_hot[\"Wert\"]"
   ]
  },
  {
   "cell_type": "code",
   "execution_count": 115,
   "metadata": {},
   "outputs": [],
   "source": [
    " x=df_hot[\"Time\"]"
   ]
  },
  {
   "cell_type": "code",
   "execution_count": 116,
   "metadata": {},
   "outputs": [],
   "source": [
    "sns.set_theme(style=\"darkgrid\")\n"
   ]
  },
  {
   "cell_type": "code",
   "execution_count": 117,
   "metadata": {},
   "outputs": [
    {
     "data": {
      "text/plain": [
       "Text(0.5, 1.0, 'Time of Maximum Temperature over the years')"
      ]
     },
     "execution_count": 117,
     "metadata": {},
     "output_type": "execute_result"
    },
    {
     "data": {
      "image/png": "[encoded data removed]",
      "text/plain": [
       "<Figure size 864x288 with 1 Axes>"
      ]
     },
     "metadata": {},
     "output_type": "display_data"
    }
   ],
   "source": [
    "fig, ax = plt.subplots(figsize=(12,4))\n",
    "sns.lineplot(x, y)\n",
    "# Rotate and align the tick labels.\n",
    "fig.autofmt_xdate()\n",
    "plt.xlabel(\"Time\")\n",
    "plt.ylabel(\"Temperature\")\n",
    "# Use a more precise date string for the x axis locations in the toolbar.\n",
    "ax.fmt_ydata = mdates.DateFormatter('%m')\n",
    "ax.set_title('Time of Maximum Temperature over the years')"
   ]
  },
  {
   "cell_type": "code",
   "execution_count": null,
   "metadata": {},
   "outputs": [],
   "source": []
  },
  {
   "cell_type": "markdown",
   "metadata": {},
   "source": [
    "\n",
    "Plotting the minimum temperatures of every year on the Y axis  and their occurence over time of day "
   ]
  },
  {
   "cell_type": "code",
   "execution_count": 118,
   "metadata": {},
   "outputs": [],
   "source": [
    "x=df_cold[\"Time\"]"
   ]
  },
  {
   "cell_type": "code",
   "execution_count": 119,
   "metadata": {},
   "outputs": [],
   "source": [
    "y= df_cold[\"Wert\"]"
   ]
  },
  {
   "cell_type": "code",
   "execution_count": 120,
   "metadata": {},
   "outputs": [
    {
     "data": {
      "text/plain": [
       "Text(0.5, 1.0, 'Time of Minimum Temperature over the years')"
      ]
     },
     "execution_count": 120,
     "metadata": {},
     "output_type": "execute_result"
    },
    {
     "data": {
      "image/png": "[encoded data removed]",
      "text/plain": [
       "<Figure size 864x288 with 1 Axes>"
      ]
     },
     "metadata": {},
     "output_type": "display_data"
    }
   ],
   "source": [
    "fig, ax = plt.subplots(figsize=(12,4))\n",
    "sns.lineplot(x, y)\n",
    "# Rotate and align the tick labels.\n",
    "fig.autofmt_xdate()\n",
    "plt.xlabel(\"Time\")\n",
    "plt.ylabel(\"Temperature\")\n",
    "# Use a more precise date string for the x axis locations in the toolbar.\n",
    "ax.fmt_ydata = mdates.DateFormatter('%m')\n",
    "ax.set_title('Time of Minimum Temperature over the years')"
   ]
  },
  {
   "cell_type": "code",
   "execution_count": null,
   "metadata": {},
   "outputs": [],
   "source": []
  },
  {
   "cell_type": "markdown",
   "metadata": {},
   "source": [
    "**From now on, instead of focusing the highest temperatures in every year, I would like to analyse in every month for all the years.**"
   ]
  },
  {
   "cell_type": "code",
   "execution_count": 121,
   "metadata": {},
   "outputs": [],
   "source": [
    "df_hot_month = df_new.groupby((df_new.Zeitstempel.dt.strftime('%y%m'))).apply(lambda group: group[group.Wert == group.Wert.max()])\\\n",
    "  .reset_index(drop=True)"
   ]
  },
  {
   "cell_type": "code",
   "execution_count": 122,
   "metadata": {},
   "outputs": [],
   "source": [
    "df_cold_month = df_new.groupby((df_new.Zeitstempel.dt.strftime('%y%m'))).apply(lambda group: group[group.Wert == group.Wert.min()])\\\n",
    "  .reset_index(drop=True)"
   ]
  },
  {
   "cell_type": "code",
   "execution_count": 123,
   "metadata": {},
   "outputs": [
    {
     "data": {
      "text/html": [
       "<div>\n",
       "<style scoped>\n",
       "    .dataframe tbody tr th:only-of-type {\n",
       "        vertical-align: middle;\n",
       "    }\n",
       "\n",
       "    .dataframe tbody tr th {\n",
       "        vertical-align: top;\n",
       "    }\n",
       "\n",
       "    .dataframe thead th {\n",
       "        text-align: right;\n",
       "    }\n",
       "</style>\n",
       "<table border=\"1\" class=\"dataframe\">\n",
       "  <thead>\n",
       "    <tr style=\"text-align: right;\">\n",
       "      <th></th>\n",
       "      <th>Zeitstempel</th>\n",
       "      <th>Wert</th>\n",
       "      <th>Time</th>\n",
       "      <th>Date</th>\n",
       "    </tr>\n",
       "  </thead>\n",
       "  <tbody>\n",
       "    <tr>\n",
       "      <td>0</td>\n",
       "      <td>2015-01-10 03:00:00</td>\n",
       "      <td>12.2</td>\n",
       "      <td>03:00:00</td>\n",
       "      <td>2015-01-10</td>\n",
       "    </tr>\n",
       "    <tr>\n",
       "      <td>1</td>\n",
       "      <td>2015-01-10 05:00:00</td>\n",
       "      <td>12.2</td>\n",
       "      <td>05:00:00</td>\n",
       "      <td>2015-01-10</td>\n",
       "    </tr>\n",
       "    <tr>\n",
       "      <td>2</td>\n",
       "      <td>2015-01-10 08:00:00</td>\n",
       "      <td>12.2</td>\n",
       "      <td>08:00:00</td>\n",
       "      <td>2015-01-10</td>\n",
       "    </tr>\n",
       "    <tr>\n",
       "      <td>3</td>\n",
       "      <td>2015-01-10 11:00:00</td>\n",
       "      <td>12.2</td>\n",
       "      <td>11:00:00</td>\n",
       "      <td>2015-01-10</td>\n",
       "    </tr>\n",
       "    <tr>\n",
       "      <td>4</td>\n",
       "      <td>2015-02-14 15:00:00</td>\n",
       "      <td>10.6</td>\n",
       "      <td>15:00:00</td>\n",
       "      <td>2015-02-14</td>\n",
       "    </tr>\n",
       "    <tr>\n",
       "      <td>...</td>\n",
       "      <td>...</td>\n",
       "      <td>...</td>\n",
       "      <td>...</td>\n",
       "      <td>...</td>\n",
       "    </tr>\n",
       "    <tr>\n",
       "      <td>92</td>\n",
       "      <td>2020-02-16 19:00:00</td>\n",
       "      <td>17.7</td>\n",
       "      <td>19:00:00</td>\n",
       "      <td>2020-02-16</td>\n",
       "    </tr>\n",
       "    <tr>\n",
       "      <td>93</td>\n",
       "      <td>2020-02-16 19:15:00</td>\n",
       "      <td>17.7</td>\n",
       "      <td>19:15:00</td>\n",
       "      <td>2020-02-16</td>\n",
       "    </tr>\n",
       "    <tr>\n",
       "      <td>94</td>\n",
       "      <td>2020-02-16 19:30:00</td>\n",
       "      <td>17.7</td>\n",
       "      <td>19:30:00</td>\n",
       "      <td>2020-02-16</td>\n",
       "    </tr>\n",
       "    <tr>\n",
       "      <td>95</td>\n",
       "      <td>2020-02-16 19:45:00</td>\n",
       "      <td>17.7</td>\n",
       "      <td>19:45:00</td>\n",
       "      <td>2020-02-16</td>\n",
       "    </tr>\n",
       "    <tr>\n",
       "      <td>96</td>\n",
       "      <td>2020-02-16 20:00:00</td>\n",
       "      <td>17.7</td>\n",
       "      <td>20:00:00</td>\n",
       "      <td>2020-02-16</td>\n",
       "    </tr>\n",
       "  </tbody>\n",
       "</table>\n",
       "<p>97 rows × 4 columns</p>\n",
       "</div>"
      ],
      "text/plain": [
       "           Zeitstempel  Wert      Time        Date\n",
       "0  2015-01-10 03:00:00  12.2  03:00:00  2015-01-10\n",
       "1  2015-01-10 05:00:00  12.2  05:00:00  2015-01-10\n",
       "2  2015-01-10 08:00:00  12.2  08:00:00  2015-01-10\n",
       "3  2015-01-10 11:00:00  12.2  11:00:00  2015-01-10\n",
       "4  2015-02-14 15:00:00  10.6  15:00:00  2015-02-14\n",
       "..                 ...   ...       ...         ...\n",
       "92 2020-02-16 19:00:00  17.7  19:00:00  2020-02-16\n",
       "93 2020-02-16 19:15:00  17.7  19:15:00  2020-02-16\n",
       "94 2020-02-16 19:30:00  17.7  19:30:00  2020-02-16\n",
       "95 2020-02-16 19:45:00  17.7  19:45:00  2020-02-16\n",
       "96 2020-02-16 20:00:00  17.7  20:00:00  2020-02-16\n",
       "\n",
       "[97 rows x 4 columns]"
      ]
     },
     "execution_count": 123,
     "metadata": {},
     "output_type": "execute_result"
    }
   ],
   "source": [
    "df_hot_month"
   ]
  },
  {
   "cell_type": "markdown",
   "metadata": {},
   "source": [
    "**From the above table for the year 2015, month january, 12.2 was the maximum temperature of that month, and it has occured over 4 different intervals in the same month **"
   ]
  },
  {
   "cell_type": "code",
   "execution_count": 124,
   "metadata": {
    "scrolled": true
   },
   "outputs": [
    {
     "data": {
      "text/html": [
       "<div>\n",
       "<style scoped>\n",
       "    .dataframe tbody tr th:only-of-type {\n",
       "        vertical-align: middle;\n",
       "    }\n",
       "\n",
       "    .dataframe tbody tr th {\n",
       "        vertical-align: top;\n",
       "    }\n",
       "\n",
       "    .dataframe thead th {\n",
       "        text-align: right;\n",
       "    }\n",
       "</style>\n",
       "<table border=\"1\" class=\"dataframe\">\n",
       "  <thead>\n",
       "    <tr style=\"text-align: right;\">\n",
       "      <th></th>\n",
       "      <th>Zeitstempel</th>\n",
       "      <th>Wert</th>\n",
       "      <th>Time</th>\n",
       "      <th>Date</th>\n",
       "    </tr>\n",
       "  </thead>\n",
       "  <tbody>\n",
       "    <tr>\n",
       "      <td>0</td>\n",
       "      <td>2015-01-21 06:00:00</td>\n",
       "      <td>-5.0</td>\n",
       "      <td>06:00:00</td>\n",
       "      <td>2015-01-21</td>\n",
       "    </tr>\n",
       "    <tr>\n",
       "      <td>1</td>\n",
       "      <td>2015-02-07 04:00:00</td>\n",
       "      <td>-6.6</td>\n",
       "      <td>04:00:00</td>\n",
       "      <td>2015-02-07</td>\n",
       "    </tr>\n",
       "    <tr>\n",
       "      <td>2</td>\n",
       "      <td>2015-03-12 03:00:00</td>\n",
       "      <td>-2.5</td>\n",
       "      <td>03:00:00</td>\n",
       "      <td>2015-03-12</td>\n",
       "    </tr>\n",
       "    <tr>\n",
       "      <td>3</td>\n",
       "      <td>2015-04-05 05:00:00</td>\n",
       "      <td>-3.0</td>\n",
       "      <td>05:00:00</td>\n",
       "      <td>2015-04-05</td>\n",
       "    </tr>\n",
       "    <tr>\n",
       "      <td>4</td>\n",
       "      <td>2015-05-15 03:00:00</td>\n",
       "      <td>1.2</td>\n",
       "      <td>03:00:00</td>\n",
       "      <td>2015-05-15</td>\n",
       "    </tr>\n",
       "    <tr>\n",
       "      <td>...</td>\n",
       "      <td>...</td>\n",
       "      <td>...</td>\n",
       "      <td>...</td>\n",
       "      <td>...</td>\n",
       "    </tr>\n",
       "    <tr>\n",
       "      <td>78</td>\n",
       "      <td>2019-10-31 06:00:00</td>\n",
       "      <td>-2.5</td>\n",
       "      <td>06:00:00</td>\n",
       "      <td>2019-10-31</td>\n",
       "    </tr>\n",
       "    <tr>\n",
       "      <td>79</td>\n",
       "      <td>2019-11-01 06:00:00</td>\n",
       "      <td>-2.6</td>\n",
       "      <td>06:00:00</td>\n",
       "      <td>2019-11-01</td>\n",
       "    </tr>\n",
       "    <tr>\n",
       "      <td>80</td>\n",
       "      <td>2019-12-05 06:00:00</td>\n",
       "      <td>-3.7</td>\n",
       "      <td>06:00:00</td>\n",
       "      <td>2019-12-05</td>\n",
       "    </tr>\n",
       "    <tr>\n",
       "      <td>81</td>\n",
       "      <td>2020-01-01 08:00:00</td>\n",
       "      <td>-4.6</td>\n",
       "      <td>08:00:00</td>\n",
       "      <td>2020-01-01</td>\n",
       "    </tr>\n",
       "    <tr>\n",
       "      <td>82</td>\n",
       "      <td>2020-02-05 07:00:00</td>\n",
       "      <td>-2.0</td>\n",
       "      <td>07:00:00</td>\n",
       "      <td>2020-02-05</td>\n",
       "    </tr>\n",
       "  </tbody>\n",
       "</table>\n",
       "<p>83 rows × 4 columns</p>\n",
       "</div>"
      ],
      "text/plain": [
       "           Zeitstempel  Wert      Time        Date\n",
       "0  2015-01-21 06:00:00  -5.0  06:00:00  2015-01-21\n",
       "1  2015-02-07 04:00:00  -6.6  04:00:00  2015-02-07\n",
       "2  2015-03-12 03:00:00  -2.5  03:00:00  2015-03-12\n",
       "3  2015-04-05 05:00:00  -3.0  05:00:00  2015-04-05\n",
       "4  2015-05-15 03:00:00   1.2  03:00:00  2015-05-15\n",
       "..                 ...   ...       ...         ...\n",
       "78 2019-10-31 06:00:00  -2.5  06:00:00  2019-10-31\n",
       "79 2019-11-01 06:00:00  -2.6  06:00:00  2019-11-01\n",
       "80 2019-12-05 06:00:00  -3.7  06:00:00  2019-12-05\n",
       "81 2020-01-01 08:00:00  -4.6  08:00:00  2020-01-01\n",
       "82 2020-02-05 07:00:00  -2.0  07:00:00  2020-02-05\n",
       "\n",
       "[83 rows x 4 columns]"
      ]
     },
     "execution_count": 124,
     "metadata": {},
     "output_type": "execute_result"
    }
   ],
   "source": [
    "df_cold_month"
   ]
  },
  {
   "cell_type": "markdown",
   "metadata": {},
   "source": [
    "**Saving this above information into a csv file**"
   ]
  },
  {
   "cell_type": "code",
   "execution_count": 125,
   "metadata": {},
   "outputs": [],
   "source": [
    "df_hot_month.drop(\"Zeitstempel\", axis=1 ,inplace = True)"
   ]
  },
  {
   "cell_type": "code",
   "execution_count": 126,
   "metadata": {},
   "outputs": [],
   "source": [
    "df_cold_month.drop(\"Zeitstempel\", axis=1 ,inplace = True)"
   ]
  },
  {
   "cell_type": "code",
   "execution_count": 127,
   "metadata": {},
   "outputs": [],
   "source": [
    "df_hot_month.to_csv(\"maximum_temperature_month.csv\")"
   ]
  },
  {
   "cell_type": "code",
   "execution_count": 128,
   "metadata": {},
   "outputs": [],
   "source": [
    "df_cold_month.to_csv(\"minimum_temperature_month.csv\")"
   ]
  },
  {
   "cell_type": "code",
   "execution_count": 129,
   "metadata": {},
   "outputs": [],
   "source": [
    "x = df_hot_month[\"Time\"]"
   ]
  },
  {
   "cell_type": "code",
   "execution_count": 130,
   "metadata": {},
   "outputs": [],
   "source": [
    "y = df_hot_month[\"Wert\"]"
   ]
  },
  {
   "cell_type": "code",
   "execution_count": 131,
   "metadata": {},
   "outputs": [
    {
     "data": {
      "text/plain": [
       "Text(0.5, 1.0, 'Time of Maximum Temperature over the years')"
      ]
     },
     "execution_count": 131,
     "metadata": {},
     "output_type": "execute_result"
    },
    {
     "data": {
      "image/png": "[encoded data removed]",
      "text/plain": [
       "<Figure size 864x288 with 1 Axes>"
      ]
     },
     "metadata": {},
     "output_type": "display_data"
    }
   ],
   "source": [
    "fig, ax = plt.subplots(figsize=(12,4))\n",
    "sns.lineplot(x, y)\n",
    "# Rotate and align the tick labels.\n",
    "fig.autofmt_xdate()\n",
    "plt.xlabel(\"Time\")\n",
    "plt.ylabel(\"Temperature\")\n",
    "# Use a more precise date string for the x axis locations in the toolbar.\n",
    "ax.fmt_ydata = mdates.DateFormatter('%m')\n",
    "ax.set_title('Time of Maximum Temperature over the years')"
   ]
  },
  {
   "cell_type": "markdown",
   "metadata": {},
   "source": [
    "**From the above figure it is evident that highest temperature is around 16:00:00 but a lot of variation of temperature between 11:00:00 to 14:00:00**"
   ]
  },
  {
   "cell_type": "code",
   "execution_count": 132,
   "metadata": {},
   "outputs": [],
   "source": [
    "x = df_cold_month[\"Time\"]"
   ]
  },
  {
   "cell_type": "code",
   "execution_count": 133,
   "metadata": {},
   "outputs": [],
   "source": [
    "y = df_cold_month[\"Wert\"]"
   ]
  },
  {
   "cell_type": "code",
   "execution_count": 134,
   "metadata": {},
   "outputs": [
    {
     "data": {
      "text/plain": [
       "Text(0.5, 1.0, 'Time of Minimum Temperature over the years')"
      ]
     },
     "execution_count": 134,
     "metadata": {},
     "output_type": "execute_result"
    },
    {
     "data": {
      "image/png": "[encoded data removed]",
      "text/plain": [
       "<Figure size 864x288 with 1 Axes>"
      ]
     },
     "metadata": {},
     "output_type": "display_data"
    }
   ],
   "source": [
    "fig, ax = plt.subplots(figsize=(12,4))\n",
    "sns.lineplot(x, y)\n",
    "# Rotate and align the tick labels.\n",
    "fig.autofmt_xdate()\n",
    "plt.xlabel(\"Time\")\n",
    "plt.ylabel(\"Temperature\")\n",
    "# Use a more precise date string for the x axis locations in the toolbar.\n",
    "ax.fmt_ydata = mdates.DateFormatter('%m')\n",
    "ax.set_title('Time of Minimum Temperature over the years')"
   ]
  },
  {
   "cell_type": "markdown",
   "metadata": {},
   "source": [
    "There is a linear relationship over the years from 6 AM to 10 PM but large amount of variation in the early hours "
   ]
  },
  {
   "cell_type": "code",
   "execution_count": null,
   "metadata": {},
   "outputs": [],
   "source": []
  },
  {
   "cell_type": "code",
   "execution_count": null,
   "metadata": {},
   "outputs": [],
   "source": []
  }
 ],
 "metadata": {
  "kernelspec": {
   "display_name": "Python 3",
   "language": "python",
   "name": "python3"
  },
  "language_info": {
   "codemirror_mode": {
    "name": "ipython",
    "version": 3
   },
   "file_extension": ".py",
   "mimetype": "text/x-python",
   "name": "python",
   "nbconvert_exporter": "python",
   "pygments_lexer": "ipython3",
   "version": "3.7.4"
  }
 },
 "nbformat": 4,
 "nbformat_minor": 2
}
